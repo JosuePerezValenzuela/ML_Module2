{
  "nbformat": 4,
  "nbformat_minor": 0,
  "metadata": {
    "colab": {
      "provenance": [],
      "authorship_tag": "ABX9TyM8z0MbLi45rAJQ0xQMe8Dr",
      "include_colab_link": true
    },
    "kernelspec": {
      "name": "python3",
      "display_name": "Python 3"
    },
    "language_info": {
      "name": "python"
    }
  },
  "cells": [
    {
      "cell_type": "markdown",
      "metadata": {
        "id": "view-in-github",
        "colab_type": "text"
      },
      "source": [
        "<a href=\"https://colab.research.google.com/github/JosuePerezValenzuela/ML_Module2/blob/master/ML_M2.ipynb\" target=\"_parent\"><img src=\"https://colab.research.google.com/assets/colab-badge.svg\" alt=\"Open In Colab\"/></a>"
      ]
    },
    {
      "cell_type": "markdown",
      "source": [
        "##Installing TensorFlow\n",
        "To install TensorFlow on your local machine you can use pip.\n",
        "```console\n",
        "pip install tensorflow\n",
        "```"
      ],
      "metadata": {
        "id": "u8YE059w16TO"
      }
    },
    {
      "cell_type": "markdown",
      "source": [
        "If you have a CUDA enabled GPU you can install the GPU version of TensorFlow. You will also need to install some other software which can be found here: https://www.tensorflow.org/install/gpu\n",
        "```console\n",
        "pip install tensorflow-gpu\n",
        "```"
      ],
      "metadata": {
        "id": "Z0a93Ai-2AuQ"
      }
    },
    {
      "cell_type": "code",
      "source": [
        "import tensorflow as tf  # importar\n",
        "print(tf.version)  # Version"
      ],
      "metadata": {
        "colab": {
          "base_uri": "https://localhost:8080/"
        },
        "id": "0J2Pu_2aBRng",
        "outputId": "bd9e8f21-66cf-4335-b62b-3459be4c1f60"
      },
      "execution_count": 3,
      "outputs": [
        {
          "output_type": "stream",
          "name": "stdout",
          "text": [
            "<module 'tensorflow._api.v2.version' from '/usr/local/lib/python3.10/dist-packages/tensorflow/_api/v2/version/__init__.py'>\n"
          ]
        }
      ]
    },
    {
      "cell_type": "markdown",
      "source": [
        "## **TensorFlow introduction**\n",
        "Que es un tensor?\n",
        "Basicamente un vector y/o matrices a dimeciones altas, TensorFlow representa tensores como matrices de n dimensiones de tipos de datos base\n",
        "Cada tensor tiene:\n",
        "  Data types unclude: float32, int32, String and others\n",
        "  Shape: Represents the dimension of data"
      ],
      "metadata": {
        "id": "Lq_R3Qba1Nzi"
      }
    },
    {
      "cell_type": "markdown",
      "source": [
        "# Creacion de tensores\n",
        "\n",
        "https://www.tensorflow.org/api_docs/python/tf/dtypes/DType?version=stable"
      ],
      "metadata": {
        "id": "mYO6y0K4_Maq"
      }
    },
    {
      "cell_type": "code",
      "execution_count": 4,
      "metadata": {
        "id": "HbiLPFmT1D_O"
      },
      "outputs": [],
      "source": [
        "# nombre = tf.Variable(<Valor>, tf.<tipoDeDato>)\n",
        "string = tf.Variable(\"This is a String\", tf.string)\n",
        "number = tf.Variable(10, tf.int16)\n",
        "floatin = tf.Variable(10.0, tf.float64)\n",
        "#Estos son escalares o tensores de rank 0 eso significa solo un valor"
      ]
    },
    {
      "cell_type": "markdown",
      "source": [
        "#Rank/Degree of tensors\n",
        "\n",
        "Rank == Degree -> Estos terminos hacen referencia al numero de dimensiones que tiene un tensor\n",
        "\n",
        "A continuacion la creacion de tensores de mayor \"rank\""
      ],
      "metadata": {
        "id": "0NqB6TXMAQ1-"
      }
    },
    {
      "cell_type": "code",
      "source": [
        "# Aqui ya tiene un arreglo en lugar de simplemente una \"variable\"\n",
        "rank1_tensor = tf.Variable([\"Test\", \"Hello\", \"Como estan gentita?\"], tf.string)\n",
        "\n",
        "#En este se tiene un arreglo de arreglos, osea una matriz\n",
        "rank2_tensor = tf.Variable([[\"Test\", \"ok\", \"3\"], [\"Test\", \"2\", \"3\"]], tf.string)"
      ],
      "metadata": {
        "id": "AnWIENqGALud"
      },
      "execution_count": 20,
      "outputs": []
    },
    {
      "cell_type": "markdown",
      "source": [
        "#Determinar el \"rank\" de un tensor"
      ],
      "metadata": {
        "id": "WAwFSwjPBr_L"
      }
    },
    {
      "cell_type": "code",
      "source": [
        "tf.rank(rank2_tensor)\n",
        "#numpy = 2 -> indica que es un tensor de rank = 2"
      ],
      "metadata": {
        "colab": {
          "base_uri": "https://localhost:8080/"
        },
        "id": "xTi5F8EcB_gi",
        "outputId": "91d70ede-2a30-4612-bf94-923372ac6bea"
      },
      "execution_count": 16,
      "outputs": [
        {
          "output_type": "execute_result",
          "data": {
            "text/plain": [
              "<tf.Tensor: shape=(), dtype=int32, numpy=2>"
            ]
          },
          "metadata": {},
          "execution_count": 16
        }
      ]
    },
    {
      "cell_type": "markdown",
      "source": [
        "#Shape de un tensor\n",
        "\n",
        "Es el numero de elementos que existe en cada dimension, en algunas ocaciones puede ser \"unknown\""
      ],
      "metadata": {
        "id": "-mTYRG49LH6M"
      }
    },
    {
      "cell_type": "code",
      "source": [
        "# 2 arreglos, cada una de 3 elementos\n",
        "rank2_tensor.shape"
      ],
      "metadata": {
        "colab": {
          "base_uri": "https://localhost:8080/"
        },
        "id": "9wAiGb1GLc0g",
        "outputId": "b4fa6432-d9f0-4186-fc69-be4123185ad9"
      },
      "execution_count": 21,
      "outputs": [
        {
          "output_type": "execute_result",
          "data": {
            "text/plain": [
              "TensorShape([2, 3])"
            ]
          },
          "metadata": {},
          "execution_count": 21
        }
      ]
    },
    {
      "cell_type": "markdown",
      "source": [
        "#Cambiar el shape\n"
      ],
      "metadata": {
        "id": "HdZNhydRYMCC"
      }
    },
    {
      "cell_type": "code",
      "source": [
        "tensor1 = tf.ones([1, 2, 3]) # Crea una lista que tiene 2 listas de cada una de 3 elementos (Lleno de unos)\n",
        "tensor2 = tf.reshape(tensor1, [2, 3, 1]) #reshape los datos existentes a [2, 3, 1] -> una lista que tiene 2 listas que tiene 3 listas de un elemto\n",
        "tensor3 = tf.reshape(tensor2, [3, -1]) # -1 indica al tensor que debe calcular el tamaño de la dimension en ese lugar, en este caso como tenemos 6 elementos\n",
        "                                       # y decimos que queremos tener 3 arreglos sera 6 / 3 = 2 en cada arreglo"
      ],
      "metadata": {
        "id": "H_Z6x3-VYTVK"
      },
      "execution_count": 26,
      "outputs": []
    },
    {
      "cell_type": "code",
      "source": [
        "print(tensor1)\n",
        "print(tensor2)\n",
        "print(tensor3)"
      ],
      "metadata": {
        "colab": {
          "base_uri": "https://localhost:8080/"
        },
        "id": "CGVMWSJKkhYO",
        "outputId": "727eb02d-265f-403a-8faa-dbceed899e03"
      },
      "execution_count": 27,
      "outputs": [
        {
          "output_type": "stream",
          "name": "stdout",
          "text": [
            "tf.Tensor(\n",
            "[[[1. 1. 1.]\n",
            "  [1. 1. 1.]]], shape=(1, 2, 3), dtype=float32)\n",
            "tf.Tensor(\n",
            "[[[1.]\n",
            "  [1.]\n",
            "  [1.]]\n",
            "\n",
            " [[1.]\n",
            "  [1.]\n",
            "  [1.]]], shape=(2, 3, 1), dtype=float32)\n",
            "tf.Tensor(\n",
            "[[1. 1.]\n",
            " [1. 1.]\n",
            " [1. 1.]], shape=(3, 2), dtype=float32)\n"
          ]
        }
      ]
    },
    {
      "cell_type": "markdown",
      "source": [
        "#Slicing tensors\n",
        "Puede ser usado en tensores para seleccionar un eje o elementos especificos\n",
        "\n",
        "Una vez cortados los tensores podemos darle un nombre a cada dimension del tensor que cortamos\n",
        "\n",
        "Ej: tensor[dim1, dim2, dim3]"
      ],
      "metadata": {
        "id": "fxHRbwNclcBM"
      }
    },
    {
      "cell_type": "code",
      "source": [
        "#Matriz 2D\n",
        "matrix = [[1, 2, 3, 4 ,5],\n",
        "          [6, 7, 8, 9, 10],\n",
        "          [11, 12, 13, 14, 15],\n",
        "          [16, 17, 18, 19, 20]]\n",
        "\n",
        "tensor = tf.Variable(matrix, dtype = tf.int32)\n",
        "print(tf.rank(tensor))\n",
        "print(tensor.shape)"
      ],
      "metadata": {
        "colab": {
          "base_uri": "https://localhost:8080/"
        },
        "id": "YOpkOtvCvTqo",
        "outputId": "f926cb2e-4493-4796-e8dd-8a6eab094045"
      },
      "execution_count": 29,
      "outputs": [
        {
          "output_type": "stream",
          "name": "stdout",
          "text": [
            "tf.Tensor(2, shape=(), dtype=int32)\n",
            "(4, 5)\n"
          ]
        }
      ]
    },
    {
      "cell_type": "code",
      "source": [
        "#Seleccionaremos diferentes columans y filas del tensor usando \"slicing\"\n",
        "\n",
        "three = tensor[0, 2] #Devuelve el tercer elemento de la primera lista\n",
        "print(three)\n",
        "\n",
        "fila1 = tensor[0] #Retorna al primera fila\n",
        "print(fila1)\n",
        "\n",
        "columna1 = tensor[:, 0] #Selecciona la primera columna\n",
        "print(columna1)\n",
        "\n",
        "fila_2_and_4 = tensor[1::2] #Selecciona la segunda y cuarta fila\n",
        "print(fila_2_and_4)\n",
        "\n",
        "columna_1_in_row_2_and_3 = tensor[1:3, 0]\n",
        "print(columna_1_in_row_2_and_3)"
      ],
      "metadata": {
        "colab": {
          "base_uri": "https://localhost:8080/"
        },
        "id": "luGCRzaqv_C4",
        "outputId": "ef71b939-2b29-4f59-cb2e-70560c4a6f2c"
      },
      "execution_count": 30,
      "outputs": [
        {
          "output_type": "stream",
          "name": "stdout",
          "text": [
            "tf.Tensor(3, shape=(), dtype=int32)\n",
            "tf.Tensor([1 2 3 4 5], shape=(5,), dtype=int32)\n",
            "tf.Tensor([ 1  6 11 16], shape=(4,), dtype=int32)\n",
            "tf.Tensor(\n",
            "[[ 6  7  8  9 10]\n",
            " [16 17 18 19 20]], shape=(2, 5), dtype=int32)\n",
            "tf.Tensor([ 6 11], shape=(2,), dtype=int32)\n"
          ]
        }
      ]
    },
    {
      "cell_type": "markdown",
      "source": [
        "#Tipos de tensores\n",
        "\n",
        "Hay diferentes tipos de tensores, estos son los mas usados\n",
        "\n",
        "Variable\n",
        "\n",
        "Constant\n",
        "\n",
        "Placeholder\n",
        "\n",
        "SparseTensor\n",
        "\n",
        "Con la excepcion de \"Variable\" los demas son inmutables"
      ],
      "metadata": {
        "id": "Ha11-ivUBYox"
      }
    },
    {
      "cell_type": "markdown",
      "source": [
        "#Evaluacion de un tensor\n",
        "\n",
        "Existen alguans veces en las que debemos evaluar a un tensor, hay distintas formas, la mas facil"
      ],
      "metadata": {
        "id": "sK9KQJzhCdXR"
      }
    },
    {
      "cell_type": "code",
      "source": [
        "with tf.Session() as sess: #Crea una sesion usando el grafo por defecto\n",
        "  tensor.eval()"
      ],
      "metadata": {
        "id": "asfeiZu9CwXa"
      },
      "execution_count": null,
      "outputs": []
    }
  ]
}